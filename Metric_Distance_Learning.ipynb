{
  "nbformat": 4,
  "nbformat_minor": 0,
  "metadata": {
    "colab": {
      "name": "Metric_Distance_Learning.ipynb",
      "version": "0.3.2",
      "provenance": [],
      "collapsed_sections": [],
      "include_colab_link": true
    },
    "kernelspec": {
      "name": "python3",
      "display_name": "Python 3"
    }
  },
  "cells": [
    {
      "cell_type": "markdown",
      "metadata": {
        "id": "view-in-github",
        "colab_type": "text"
      },
      "source": [
        "<a href=\"https://colab.research.google.com/github/ThreeOne31/CNN_Bird_Species_Classification/blob/master/Metric_Distance_Learning.ipynb\" target=\"_parent\"><img src=\"https://colab.research.google.com/assets/colab-badge.svg\" alt=\"Open In Colab\"/></a>"
      ]
    },
    {
      "cell_type": "code",
      "metadata": {
        "id": "iXiFWvueLnMu",
        "colab_type": "code",
        "outputId": "853cd5ef-989b-49f1-8728-f1f364999507",
        "colab": {
          "base_uri": "https://localhost:8080/",
          "height": 126
        }
      },
      "source": [
        "!git clone https://github.com/ThreeOne31/knn_Metric_distance_learning.git"
      ],
      "execution_count": 1,
      "outputs": [
        {
          "output_type": "stream",
          "text": [
            "Cloning into 'knn_Metric_distance_learning'...\n",
            "remote: Enumerating objects: 9, done.\u001b[K\n",
            "remote: Counting objects: 100% (9/9), done.\u001b[K\n",
            "remote: Compressing objects: 100% (7/7), done.\u001b[K\n",
            "remote: Total 9 (delta 1), reused 0 (delta 0), pack-reused 0\u001b[K\n",
            "Unpacking objects: 100% (9/9), done.\n"
          ],
          "name": "stdout"
        }
      ]
    },
    {
      "cell_type": "code",
      "metadata": {
        "id": "NXyKuuQariPt",
        "colab_type": "code",
        "outputId": "9bf8c214-7dc0-430f-f4b9-13c1d69f8bbd",
        "colab": {
          "base_uri": "https://localhost:8080/",
          "height": 198
        }
      },
      "source": [
        "import os\n",
        "import math\n",
        "import random\n",
        "import operator\n",
        "\n",
        "import numpy as np\n",
        "import pandas as pd\n",
        "\n",
        "from sklearn.preprocessing import MinMaxScaler\n",
        "\n",
        "#change the working dir\n",
        "os.chdir('knn_Metric_distance_learning/HTRU2')\n",
        "\n",
        "#load data\n",
        "pulsars_dataframe = pd.read_csv('HTRU_2.csv')\n",
        "pulsars_dataframe.head()"
      ],
      "execution_count": 2,
      "outputs": [
        {
          "output_type": "execute_result",
          "data": {
            "text/html": [
              "<div>\n",
              "<style scoped>\n",
              "    .dataframe tbody tr th:only-of-type {\n",
              "        vertical-align: middle;\n",
              "    }\n",
              "\n",
              "    .dataframe tbody tr th {\n",
              "        vertical-align: top;\n",
              "    }\n",
              "\n",
              "    .dataframe thead th {\n",
              "        text-align: right;\n",
              "    }\n",
              "</style>\n",
              "<table border=\"1\" class=\"dataframe\">\n",
              "  <thead>\n",
              "    <tr style=\"text-align: right;\">\n",
              "      <th></th>\n",
              "      <th>140.5625</th>\n",
              "      <th>55.68378214</th>\n",
              "      <th>-0.234571412</th>\n",
              "      <th>-0.699648398</th>\n",
              "      <th>3.199832776</th>\n",
              "      <th>19.11042633</th>\n",
              "      <th>7.975531794</th>\n",
              "      <th>74.24222492</th>\n",
              "      <th>0</th>\n",
              "    </tr>\n",
              "  </thead>\n",
              "  <tbody>\n",
              "    <tr>\n",
              "      <th>0</th>\n",
              "      <td>102.507812</td>\n",
              "      <td>58.882430</td>\n",
              "      <td>0.465318</td>\n",
              "      <td>-0.515088</td>\n",
              "      <td>1.677258</td>\n",
              "      <td>14.860146</td>\n",
              "      <td>10.576487</td>\n",
              "      <td>127.393580</td>\n",
              "      <td>0</td>\n",
              "    </tr>\n",
              "    <tr>\n",
              "      <th>1</th>\n",
              "      <td>103.015625</td>\n",
              "      <td>39.341649</td>\n",
              "      <td>0.323328</td>\n",
              "      <td>1.051164</td>\n",
              "      <td>3.121237</td>\n",
              "      <td>21.744669</td>\n",
              "      <td>7.735822</td>\n",
              "      <td>63.171909</td>\n",
              "      <td>0</td>\n",
              "    </tr>\n",
              "    <tr>\n",
              "      <th>2</th>\n",
              "      <td>136.750000</td>\n",
              "      <td>57.178449</td>\n",
              "      <td>-0.068415</td>\n",
              "      <td>-0.636238</td>\n",
              "      <td>3.642977</td>\n",
              "      <td>20.959280</td>\n",
              "      <td>6.896499</td>\n",
              "      <td>53.593661</td>\n",
              "      <td>0</td>\n",
              "    </tr>\n",
              "    <tr>\n",
              "      <th>3</th>\n",
              "      <td>88.726562</td>\n",
              "      <td>40.672225</td>\n",
              "      <td>0.600866</td>\n",
              "      <td>1.123492</td>\n",
              "      <td>1.178930</td>\n",
              "      <td>11.468720</td>\n",
              "      <td>14.269573</td>\n",
              "      <td>252.567306</td>\n",
              "      <td>0</td>\n",
              "    </tr>\n",
              "    <tr>\n",
              "      <th>4</th>\n",
              "      <td>93.570312</td>\n",
              "      <td>46.698114</td>\n",
              "      <td>0.531905</td>\n",
              "      <td>0.416721</td>\n",
              "      <td>1.636288</td>\n",
              "      <td>14.545074</td>\n",
              "      <td>10.621748</td>\n",
              "      <td>131.394004</td>\n",
              "      <td>0</td>\n",
              "    </tr>\n",
              "  </tbody>\n",
              "</table>\n",
              "</div>"
            ],
            "text/plain": [
              "     140.5625  55.68378214  -0.234571412  -0.699648398  3.199832776  \\\n",
              "0  102.507812    58.882430      0.465318     -0.515088     1.677258   \n",
              "1  103.015625    39.341649      0.323328      1.051164     3.121237   \n",
              "2  136.750000    57.178449     -0.068415     -0.636238     3.642977   \n",
              "3   88.726562    40.672225      0.600866      1.123492     1.178930   \n",
              "4   93.570312    46.698114      0.531905      0.416721     1.636288   \n",
              "\n",
              "   19.11042633  7.975531794  74.24222492  0  \n",
              "0    14.860146    10.576487   127.393580  0  \n",
              "1    21.744669     7.735822    63.171909  0  \n",
              "2    20.959280     6.896499    53.593661  0  \n",
              "3    11.468720    14.269573   252.567306  0  \n",
              "4    14.545074    10.621748   131.394004  0  "
            ]
          },
          "metadata": {
            "tags": []
          },
          "execution_count": 2
        }
      ]
    },
    {
      "cell_type": "code",
      "metadata": {
        "id": "3v069K67sQvz",
        "colab_type": "code",
        "outputId": "810a7bdd-2f43-4d12-f6d3-763fd0e0f288",
        "colab": {
          "base_uri": "https://localhost:8080/",
          "height": 318
        }
      },
      "source": [
        "pulsars_dataframe.describe().transpose()"
      ],
      "execution_count": 0,
      "outputs": [
        {
          "output_type": "execute_result",
          "data": {
            "text/html": [
              "<div>\n",
              "<style scoped>\n",
              "    .dataframe tbody tr th:only-of-type {\n",
              "        vertical-align: middle;\n",
              "    }\n",
              "\n",
              "    .dataframe tbody tr th {\n",
              "        vertical-align: top;\n",
              "    }\n",
              "\n",
              "    .dataframe thead th {\n",
              "        text-align: right;\n",
              "    }\n",
              "</style>\n",
              "<table border=\"1\" class=\"dataframe\">\n",
              "  <thead>\n",
              "    <tr style=\"text-align: right;\">\n",
              "      <th></th>\n",
              "      <th>count</th>\n",
              "      <th>mean</th>\n",
              "      <th>std</th>\n",
              "      <th>min</th>\n",
              "      <th>25%</th>\n",
              "      <th>50%</th>\n",
              "      <th>75%</th>\n",
              "      <th>max</th>\n",
              "    </tr>\n",
              "  </thead>\n",
              "  <tbody>\n",
              "    <tr>\n",
              "      <th>140.5625</th>\n",
              "      <td>17897.0</td>\n",
              "      <td>111.078321</td>\n",
              "      <td>25.652705</td>\n",
              "      <td>5.812500</td>\n",
              "      <td>100.929688</td>\n",
              "      <td>115.078125</td>\n",
              "      <td>127.085938</td>\n",
              "      <td>192.617188</td>\n",
              "    </tr>\n",
              "    <tr>\n",
              "      <th>55.68378214</th>\n",
              "      <td>17897.0</td>\n",
              "      <td>46.549021</td>\n",
              "      <td>6.843040</td>\n",
              "      <td>24.772042</td>\n",
              "      <td>42.375426</td>\n",
              "      <td>46.946435</td>\n",
              "      <td>51.022887</td>\n",
              "      <td>98.778911</td>\n",
              "    </tr>\n",
              "    <tr>\n",
              "      <th>-0.234571412</th>\n",
              "      <td>17897.0</td>\n",
              "      <td>0.477897</td>\n",
              "      <td>1.064056</td>\n",
              "      <td>-1.876011</td>\n",
              "      <td>0.027108</td>\n",
              "      <td>0.223241</td>\n",
              "      <td>0.473349</td>\n",
              "      <td>8.069522</td>\n",
              "    </tr>\n",
              "    <tr>\n",
              "      <th>-0.699648398</th>\n",
              "      <td>17897.0</td>\n",
              "      <td>1.770417</td>\n",
              "      <td>6.168058</td>\n",
              "      <td>-1.791886</td>\n",
              "      <td>-0.188528</td>\n",
              "      <td>0.198736</td>\n",
              "      <td>0.928206</td>\n",
              "      <td>68.101622</td>\n",
              "    </tr>\n",
              "    <tr>\n",
              "      <th>3.199832776</th>\n",
              "      <td>17897.0</td>\n",
              "      <td>12.614926</td>\n",
              "      <td>29.473637</td>\n",
              "      <td>0.213211</td>\n",
              "      <td>1.923077</td>\n",
              "      <td>2.801839</td>\n",
              "      <td>5.464883</td>\n",
              "      <td>223.392140</td>\n",
              "    </tr>\n",
              "    <tr>\n",
              "      <th>19.11042633</th>\n",
              "      <td>17897.0</td>\n",
              "      <td>26.326918</td>\n",
              "      <td>19.471042</td>\n",
              "      <td>7.370432</td>\n",
              "      <td>14.437330</td>\n",
              "      <td>18.459977</td>\n",
              "      <td>28.428152</td>\n",
              "      <td>110.642211</td>\n",
              "    </tr>\n",
              "    <tr>\n",
              "      <th>7.975531794</th>\n",
              "      <td>17897.0</td>\n",
              "      <td>8.303574</td>\n",
              "      <td>4.506217</td>\n",
              "      <td>-3.139270</td>\n",
              "      <td>5.781485</td>\n",
              "      <td>8.433872</td>\n",
              "      <td>10.702973</td>\n",
              "      <td>34.539844</td>\n",
              "    </tr>\n",
              "    <tr>\n",
              "      <th>74.24222492</th>\n",
              "      <td>17897.0</td>\n",
              "      <td>104.859419</td>\n",
              "      <td>106.517270</td>\n",
              "      <td>-1.976976</td>\n",
              "      <td>34.957119</td>\n",
              "      <td>83.068996</td>\n",
              "      <td>139.310905</td>\n",
              "      <td>1191.000837</td>\n",
              "    </tr>\n",
              "    <tr>\n",
              "      <th>0</th>\n",
              "      <td>17897.0</td>\n",
              "      <td>0.091580</td>\n",
              "      <td>0.288440</td>\n",
              "      <td>0.000000</td>\n",
              "      <td>0.000000</td>\n",
              "      <td>0.000000</td>\n",
              "      <td>0.000000</td>\n",
              "      <td>1.000000</td>\n",
              "    </tr>\n",
              "  </tbody>\n",
              "</table>\n",
              "</div>"
            ],
            "text/plain": [
              "                count        mean         std        min         25%  \\\n",
              "140.5625      17897.0  111.078321   25.652705   5.812500  100.929688   \n",
              "55.68378214   17897.0   46.549021    6.843040  24.772042   42.375426   \n",
              "-0.234571412  17897.0    0.477897    1.064056  -1.876011    0.027108   \n",
              "-0.699648398  17897.0    1.770417    6.168058  -1.791886   -0.188528   \n",
              "3.199832776   17897.0   12.614926   29.473637   0.213211    1.923077   \n",
              "19.11042633   17897.0   26.326918   19.471042   7.370432   14.437330   \n",
              "7.975531794   17897.0    8.303574    4.506217  -3.139270    5.781485   \n",
              "74.24222492   17897.0  104.859419  106.517270  -1.976976   34.957119   \n",
              "0             17897.0    0.091580    0.288440   0.000000    0.000000   \n",
              "\n",
              "                     50%         75%          max  \n",
              "140.5625      115.078125  127.085938   192.617188  \n",
              "55.68378214    46.946435   51.022887    98.778911  \n",
              "-0.234571412    0.223241    0.473349     8.069522  \n",
              "-0.699648398    0.198736    0.928206    68.101622  \n",
              "3.199832776     2.801839    5.464883   223.392140  \n",
              "19.11042633    18.459977   28.428152   110.642211  \n",
              "7.975531794     8.433872   10.702973    34.539844  \n",
              "74.24222492    83.068996  139.310905  1191.000837  \n",
              "0               0.000000    0.000000     1.000000  "
            ]
          },
          "metadata": {
            "tags": []
          },
          "execution_count": 27
        }
      ]
    },
    {
      "cell_type": "code",
      "metadata": {
        "id": "g_lz-bVbsbgy",
        "colab_type": "code",
        "outputId": "f00d4b07-807a-4c3d-85aa-abc3d550aece",
        "colab": {
          "base_uri": "https://localhost:8080/",
          "height": 199
        }
      },
      "source": [
        "pulsars_dataframe.dtypes"
      ],
      "execution_count": 0,
      "outputs": [
        {
          "output_type": "execute_result",
          "data": {
            "text/plain": [
              "140.5625        float64\n",
              "55.68378214     float64\n",
              "-0.234571412    float64\n",
              "-0.699648398    float64\n",
              "3.199832776     float64\n",
              "19.11042633     float64\n",
              "7.975531794     float64\n",
              "74.24222492     float64\n",
              "0                 int64\n",
              "dtype: object"
            ]
          },
          "metadata": {
            "tags": []
          },
          "execution_count": 28
        }
      ]
    },
    {
      "cell_type": "code",
      "metadata": {
        "id": "JM5EaadYs3Cp",
        "colab_type": "code",
        "colab": {}
      },
      "source": [
        "colnames_numeric = pulsars_dataframe.columns[0:8]\n",
        "#Scaling a data in always a good idea while using KNN\n",
        "from sklearn.preprocessing import MinMaxScaler\n",
        "scaler = MinMaxScaler()\n",
        "pulsars_dataframe[colnames_numeric] = scaler.fit_transform(pulsars_dataframe[colnames_numeric] )"
      ],
      "execution_count": 0,
      "outputs": []
    },
    {
      "cell_type": "code",
      "metadata": {
        "id": "IfdikMb4ualc",
        "colab_type": "code",
        "outputId": "00b94984-f5e8-4183-9ca3-1ff0e188dcec",
        "colab": {
          "base_uri": "https://localhost:8080/",
          "height": 198
        }
      },
      "source": [
        "pulsars_dataframe.head()\n",
        "#print(pulsars_dataframe[18])"
      ],
      "execution_count": 0,
      "outputs": [
        {
          "output_type": "execute_result",
          "data": {
            "text/html": [
              "<div>\n",
              "<style scoped>\n",
              "    .dataframe tbody tr th:only-of-type {\n",
              "        vertical-align: middle;\n",
              "    }\n",
              "\n",
              "    .dataframe tbody tr th {\n",
              "        vertical-align: top;\n",
              "    }\n",
              "\n",
              "    .dataframe thead th {\n",
              "        text-align: right;\n",
              "    }\n",
              "</style>\n",
              "<table border=\"1\" class=\"dataframe\">\n",
              "  <thead>\n",
              "    <tr style=\"text-align: right;\">\n",
              "      <th></th>\n",
              "      <th>140.5625</th>\n",
              "      <th>55.68378214</th>\n",
              "      <th>-0.234571412</th>\n",
              "      <th>-0.699648398</th>\n",
              "      <th>3.199832776</th>\n",
              "      <th>19.11042633</th>\n",
              "      <th>7.975531794</th>\n",
              "      <th>74.24222492</th>\n",
              "      <th>0</th>\n",
              "    </tr>\n",
              "  </thead>\n",
              "  <tbody>\n",
              "    <tr>\n",
              "      <th>0</th>\n",
              "      <td>0.517628</td>\n",
              "      <td>0.460908</td>\n",
              "      <td>0.235415</td>\n",
              "      <td>0.018268</td>\n",
              "      <td>0.006560</td>\n",
              "      <td>0.072524</td>\n",
              "      <td>0.364015</td>\n",
              "      <td>0.108443</td>\n",
              "      <td>0</td>\n",
              "    </tr>\n",
              "    <tr>\n",
              "      <th>1</th>\n",
              "      <td>0.520346</td>\n",
              "      <td>0.196868</td>\n",
              "      <td>0.221138</td>\n",
              "      <td>0.040677</td>\n",
              "      <td>0.013030</td>\n",
              "      <td>0.139188</td>\n",
              "      <td>0.288624</td>\n",
              "      <td>0.054610</td>\n",
              "      <td>0</td>\n",
              "    </tr>\n",
              "    <tr>\n",
              "      <th>2</th>\n",
              "      <td>0.700933</td>\n",
              "      <td>0.437884</td>\n",
              "      <td>0.181750</td>\n",
              "      <td>0.016534</td>\n",
              "      <td>0.015368</td>\n",
              "      <td>0.131583</td>\n",
              "      <td>0.266348</td>\n",
              "      <td>0.046581</td>\n",
              "      <td>0</td>\n",
              "    </tr>\n",
              "    <tr>\n",
              "      <th>3</th>\n",
              "      <td>0.443854</td>\n",
              "      <td>0.214847</td>\n",
              "      <td>0.249044</td>\n",
              "      <td>0.041712</td>\n",
              "      <td>0.004327</td>\n",
              "      <td>0.039684</td>\n",
              "      <td>0.462029</td>\n",
              "      <td>0.213369</td>\n",
              "      <td>0</td>\n",
              "    </tr>\n",
              "    <tr>\n",
              "      <th>4</th>\n",
              "      <td>0.469784</td>\n",
              "      <td>0.296271</td>\n",
              "      <td>0.242110</td>\n",
              "      <td>0.031600</td>\n",
              "      <td>0.006376</td>\n",
              "      <td>0.069473</td>\n",
              "      <td>0.365216</td>\n",
              "      <td>0.111797</td>\n",
              "      <td>0</td>\n",
              "    </tr>\n",
              "  </tbody>\n",
              "</table>\n",
              "</div>"
            ],
            "text/plain": [
              "   140.5625  55.68378214  -0.234571412  -0.699648398  3.199832776  \\\n",
              "0  0.517628     0.460908      0.235415      0.018268     0.006560   \n",
              "1  0.520346     0.196868      0.221138      0.040677     0.013030   \n",
              "2  0.700933     0.437884      0.181750      0.016534     0.015368   \n",
              "3  0.443854     0.214847      0.249044      0.041712     0.004327   \n",
              "4  0.469784     0.296271      0.242110      0.031600     0.006376   \n",
              "\n",
              "   19.11042633  7.975531794  74.24222492  0  \n",
              "0     0.072524     0.364015     0.108443  0  \n",
              "1     0.139188     0.288624     0.054610  0  \n",
              "2     0.131583     0.266348     0.046581  0  \n",
              "3     0.039684     0.462029     0.213369  0  \n",
              "4     0.069473     0.365216     0.111797  0  "
            ]
          },
          "metadata": {
            "tags": []
          },
          "execution_count": 30
        }
      ]
    },
    {
      "cell_type": "code",
      "metadata": {
        "id": "1WLJFhRst0tm",
        "colab_type": "code",
        "colab": {}
      },
      "source": [
        "#convert pandas dataframe to list\n",
        "pulsars_list = pulsars_dataframe.values.tolist()\n",
        "#convert pandas dataframe to a numpy array\n",
        "pulsar_arr = pulsars_dataframe.to_numpy()"
      ],
      "execution_count": 0,
      "outputs": []
    },
    {
      "cell_type": "markdown",
      "metadata": {
        "id": "wJhm0cYCVod-",
        "colab_type": "text"
      },
      "source": [
        "Add a new learning distance metric \n",
        "\n",
        "\n",
        "\n",
        "\n"
      ]
    },
    {
      "cell_type": "code",
      "metadata": {
        "id": "fvgHv-ONVldc",
        "colab_type": "code",
        "outputId": "72876dff-da9d-4f9a-a028-e16594b032c8",
        "colab": {
          "base_uri": "https://localhost:8080/",
          "height": 217
        }
      },
      "source": [
        "#print(pulsars_list[0:4])\n",
        "#print(pulsars_list[4][0])\n",
        "#print(pulsars_list[:,8])\n",
        "#print(pulsars_list[8:9][-1])\n",
        "\n",
        "X = pulsar_arr[:,0:8]\n",
        "Y = pulsar_arr[:,8:9]\n",
        "Y_trans = Y.transpose()\n",
        "X_trans = X.transpose()\n",
        "lamda = 0.3\n",
        "print(X_trans)\n",
        "print(Y_trans)\n",
        "\n",
        "K_d= Y_trans.dot(Y) + lamda\n",
        "print(Y.shape)\n",
        "print(Y_trans.shape)\n",
        "print(K_d)\n",
        "\n",
        "#def MetricDistance(testInstance, trainingSet[x]):"
      ],
      "execution_count": 9,
      "outputs": [
        {
          "output_type": "stream",
          "text": [
            "[[0.51762787 0.52034628 0.70093263 ... 0.60771193 0.58186609 0.27435072]\n",
            " [0.46090841 0.19686832 0.43788377 ... 0.4751437  0.39361695 0.82458965]\n",
            " [0.23541516 0.22113842 0.18174959 ... 0.2046521  0.20885482 0.33003783]\n",
            " ...\n",
            " [0.0725243  0.13918843 0.13158337 ... 0.49869934 0.05820853 0.5552546 ]\n",
            " [0.36401483 0.28862387 0.26634832 ... 0.14965285 0.34892638 0.04091771]\n",
            " [0.10844339 0.05461031 0.04658145 ... 0.00550903 0.11418141 0.00285542]]\n",
            "[[0. 0. 0. ... 0. 0. 0.]]\n",
            "(17897, 1)\n",
            "(1, 17897)\n",
            "[[1639.3]]\n"
          ],
          "name": "stdout"
        }
      ]
    },
    {
      "cell_type": "markdown",
      "metadata": {
        "id": "JUDjCVWNVnCM",
        "colab_type": "text"
      },
      "source": [
        ""
      ]
    },
    {
      "cell_type": "code",
      "metadata": {
        "id": "QGRFIacz04YJ",
        "colab_type": "code",
        "colab": {}
      },
      "source": [
        "#Breaking the data into training and test set\n",
        "def train_test_split(data, split, trainingSet = [], testSet = []):\n",
        "    for x in range(len(data)):\n",
        "        if random.random() < split:\n",
        "            trainingSet.append(data[x])\n",
        "        else:\n",
        "            testSet.append(data[x])\n",
        "            \n",
        "#defibe Euclian distance\n",
        "def Euclideandist(x,xi, length):\n",
        "    d = 0.0\n",
        "    for i in range(length):\n",
        "        d += pow(float(x[i])- float(xi[i]),2)\n",
        "    return math.sqrt(d)\n",
        "\n",
        "#Getting the K neighbours having the closest Euclidean distance to the test instance\n",
        "def getNeighbors(trainingSet, testInstance, k):\n",
        "    distances = []\n",
        "    length = len(testInstance)-1\n",
        "    for x in range(len(trainingSet)):\n",
        "        dist = Euclideandist(testInstance, trainingSet[x], length)\n",
        "        distances.append((trainingSet[x], dist))\n",
        "    distances.sort(key=operator.itemgetter(1))\n",
        "    neighbors = []\n",
        "    for x in range(k):\n",
        "        neighbors.append(distances[x][0])\n",
        "    return neighbors\n",
        "  \n",
        "#After sorting the neighbours based on their respective classes, max voting to give the final class of the test instance\n",
        "def getResponse(neighbors):\n",
        "\tclassVotes = {}\n",
        "\tfor x in range(len(neighbors)):\n",
        "\t\tresponse = neighbors[x][-1]\n",
        "\t\tif response in classVotes:\n",
        "\t\t\tclassVotes[response] += 1\n",
        "\t\telse:\n",
        "\t\t\tclassVotes[response] = 1\n",
        "\tsortedVotes = sorted(classVotes.items(), key=operator.itemgetter(1), reverse=True)#Sorting it based on votes\n",
        "\treturn sortedVotes[0][0] #Please note we need the class for the top voted class, hence [0][0]#\n",
        "\n",
        "\n",
        "#Getting the accuracy\n",
        "def getAccuracy(testSet, predictions):\n",
        "\tcorrect = 0\n",
        "\tfor x in range(len(testSet)):\n",
        "\t\tif testSet[x][-1] == predictions[x]:\n",
        "\t\t\tcorrect += 1\n",
        "\treturn (correct/float(len(testSet))) * 100.0"
      ],
      "execution_count": 0,
      "outputs": []
    },
    {
      "cell_type": "code",
      "metadata": {
        "id": "cCwlUXVs1idP",
        "colab_type": "code",
        "colab": {}
      },
      "source": [
        "trainingSet = []\n",
        "testSet = []\n",
        "split = 0.66\n",
        "train_test_split(pulsars_list, split, trainingSet, testSet)\n",
        "\n",
        "\n",
        "# generate predictions\n",
        "predictions=[]\n",
        "k = 3\n",
        "for x in range(len(testSet)):\n",
        "    neighbors = getNeighbors(trainingSet, testSet[x], k)\n",
        "    result = getResponse(neighbors)\n",
        "    predictions.append(result)\n",
        "    print('> predicted=' + repr(result) + ', actual=' + repr(testSet[x][-1]))"
      ],
      "execution_count": 0,
      "outputs": []
    },
    {
      "cell_type": "code",
      "metadata": {
        "id": "Tmy_9rvA1qEn",
        "colab_type": "code",
        "outputId": "70d4e156-d6f7-4396-9554-23ae51fea742",
        "colab": {
          "base_uri": "https://localhost:8080/",
          "height": 35
        }
      },
      "source": [
        "accuracy = getAccuracy(testSet, predictions)\n",
        "print('Accuracy: ' + repr(accuracy) + '%')"
      ],
      "execution_count": 7,
      "outputs": [
        {
          "output_type": "stream",
          "text": [
            "Accuracy: 97.83363651397387%\n"
          ],
          "name": "stdout"
        }
      ]
    }
  ]
}