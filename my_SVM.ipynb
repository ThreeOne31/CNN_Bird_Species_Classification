{
  "nbformat": 4,
  "nbformat_minor": 0,
  "metadata": {
    "colab": {
      "name": "my_SVM.ipynb",
      "version": "0.3.2",
      "provenance": [],
      "collapsed_sections": [],
      "include_colab_link": true
    },
    "kernelspec": {
      "name": "python3",
      "display_name": "Python 3"
    }
  },
  "cells": [
    {
      "cell_type": "markdown",
      "metadata": {
        "id": "view-in-github",
        "colab_type": "text"
      },
      "source": [
        "[View in Colaboratory](https://colab.research.google.com/github/ThreeOne31/CNN_Bird_Species_Classification/blob/master/my_SVM.ipynb)"
      ]
    },
    {
      "metadata": {
        "id": "xMreQzi_c4Fm",
        "colab_type": "code",
        "colab": {
          "base_uri": "https://localhost:8080/",
          "height": 119
        },
        "outputId": "e8ee9944-d170-458a-f407-b81009b8a84f"
      },
      "cell_type": "code",
      "source": [
        "!git clone https://github.com/MbeleLebohang-uct/birds-data.git"
      ],
      "execution_count": 1,
      "outputs": [
        {
          "output_type": "stream",
          "text": [
            "Cloning into 'birds-data'...\n",
            "remote: Enumerating objects: 12013, done.\u001b[K\n",
            "remote: Total 12013 (delta 0), reused 0 (delta 0), pack-reused 12013\u001b[K\n",
            "Receiving objects: 100% (12013/12013), 1.07 GiB | 53.38 MiB/s, done.\n",
            "Resolving deltas: 100% (6/6), done.\n",
            "Checking out files: 100% (11800/11800), done.\n"
          ],
          "name": "stdout"
        }
      ]
    },
    {
      "metadata": {
        "id": "fgUFe5KQdJu2",
        "colab_type": "code",
        "colab": {
          "base_uri": "https://localhost:8080/",
          "height": 68
        },
        "outputId": "6ec4b87d-85c7-4aef-8727-08ccdb47677d"
      },
      "cell_type": "code",
      "source": [
        "#!ls birds-data/images\n",
        "!rm -r workingDIR\n",
        "!mkdir workingDIR\n",
        "!mkdir model\n",
        "!cp -r birds-data/images/001.Black_footed_Albatross workingDIR\n",
        "#!cp -r birds-data/images/002.Laysan_Albatross workingDIR\n",
        "#!cp -r birds-data/images/003.Sooty_Albatross workingDIR\n",
        "!cp -r birds-data/images/020.Yellow_breasted_Chat workingDIR\n",
        "!cp -r birds-data/images/084.Red_legged_Kittiwake  workingDIR\n",
        "!cp -r birds-data/images/085.Horned_Lark workingDIR\n",
        "\n",
        "#002.Laysan_Albatross\n",
        "\n",
        "#!cp -r workingDIR/085.Horned_Lark\tbirds-data/images\n",
        "#!ls model\n",
        "#!mkdir workingDIR\n",
        "#!cd birds-data/images\n",
        "\n",
        "!rm -r birds-data\n",
        "!ls workingDIR\n",
        "\n",
        "#!cat > model.pkl"
      ],
      "execution_count": 2,
      "outputs": [
        {
          "output_type": "stream",
          "text": [
            "rm: cannot remove 'workingDIR': No such file or directory\n",
            "001.Black_footed_Albatross  084.Red_legged_Kittiwake\n",
            "020.Yellow_breasted_Chat    085.Horned_Lark\n"
          ],
          "name": "stdout"
        }
      ]
    },
    {
      "metadata": {
        "id": "GmJm6t3Vf6No",
        "colab_type": "code",
        "colab": {
          "base_uri": "https://localhost:8080/",
          "height": 1180
        },
        "outputId": "0b961feb-0566-4bbe-c8ce-13d3a6b036a4"
      },
      "cell_type": "code",
      "source": [
        "\"\"\"\n",
        "Created on Tue Aug 28 21:51:56 2018\n",
        "\n",
        "@author: Khomo\n",
        "\"\"\"\n",
        "\n",
        "import os\n",
        "import matplotlib.pyplot as plt\n",
        "import matplotlib.image as mpimg\n",
        "import numpy as np\n",
        "import seaborn as sns\n",
        "import PIL.Image\n",
        "import itertools\n",
        "import pickle\n",
        "\n",
        "from tensorflow.python.keras.preprocessing.image import ImageDataGenerator\n",
        "from tensorflow.python.keras.preprocessing.image import array_to_img, img_to_array, load_img\n",
        "\n",
        "from sklearn import cross_validation, grid_search\n",
        "from sklearn.metrics import confusion_matrix, classification_report\n",
        "from sklearn.svm import SVC\n",
        "from sklearn.externals import joblib\n",
        "\n",
        "\n",
        "#-------------------------------- Global Variables --------------------------------------\n",
        "#get directories\n",
        "#base_dir = 'CUB_pat_images'\n",
        "\n",
        "base_dir = 'workingDIR'\n",
        "model_output_path= 'model/model.pkl'\n",
        "\n",
        "#train_dir = os.path.join(base_dir,'train')\n",
        "#validation_dir = os.path.join(base_dir,'validation')\n",
        "\n",
        "#-------------------------------- Feature mapping --------------------------------------\n",
        "class_names = np.array(os.listdir(base_dir))\n",
        "class_id=[]\n",
        "img_array=[]\n",
        "\n",
        "\n",
        "#========================================================================================\n",
        "#           SVM Training Function \n",
        "#========================================================================================\n",
        "def train_svm_classifer(features, labels, model_output_path):\n",
        "  \"\"\"\n",
        "  train_svm_classifer will train a SVM, saved the trained and SVM model and\n",
        "  report the classification performance\n",
        "\n",
        "  features: array of input features\n",
        "  labels: array of labels associated with the input features\n",
        "  model_output_path: path for storing the trained svm model\n",
        "  \"\"\"\n",
        "  \n",
        "  # save 20% of data for performance evaluation\n",
        "  X_train, X_test, y_train, y_test = cross_validation.train_test_split(features, labels, test_size=0.2)\n",
        "  \n",
        "  param = [\n",
        "       {\n",
        "          \"kernel\": [\"linear\"],\n",
        "          \"C\": [1] #[1, 10, 100, 1000]\n",
        "       }\n",
        "\n",
        "  ]\n",
        "\n",
        "  # request probability estimation\n",
        "  svm = SVC(probability=True)\n",
        " \n",
        "  # 10-fold cross validation, use 4 thread as each fold and each parameter set can be train in parallel\n",
        "  clf = grid_search.GridSearchCV(svm, param,cv=10, n_jobs=4, verbose=3)\n",
        "  \n",
        "  clf.fit(X_train, y_train)\n",
        "  clfl=clf.best_estimator_\n",
        "  joblib.dump(clfl, model_output_path)\n",
        "  \n",
        "  print(\"\\nBest parameters set:\")\n",
        "  print(clf.best_params_)\n",
        "\n",
        "  y_predict=clf.predict(X_test)\n",
        "  \n",
        "  cm=confusion_matrix(y_test, y_predict)\n",
        "  cm_normalized = cm.astype(\"float\") / cm.sum(axis=1)[:, np.newaxis]\n",
        "\n",
        "  #print(cm)\n",
        "  plot_confusion_matrix(cm_normalized,class_names)\n",
        "  \n",
        "  labels=sorted(list(set(labels)))\n",
        "  print(\"\\nConfusion matrix:\")\n",
        "  print(\"Labels: {0}\\n\".format(\",\".join(str(labels))))\n",
        "  print(confusion_matrix(y_test, y_predict, labels= labels))\n",
        "\n",
        "  print(\"\\nClassification report:\")\n",
        "  print(classification_report(y_test, y_predict, target_names=class_names))\n",
        "  \n",
        "#=========================================================================================================\n",
        "#                     Confusion Matrix Plot\n",
        "#=========================================================================================================\n",
        "\n",
        "def plot_confusion_matrix(cm, classes, cmap=plt.cm.Blues, title='Confusion matrix'):\n",
        "  \n",
        "  \"\"\"\n",
        "  This function prints and plots the confusion matrix.\n",
        "  Normalization can be applied by setting `normalize=True`.\n",
        "  \"\"\"\n",
        "  #cm = cm.astype('float') / cm.sum(axis=1)[:, np.newaxis]\n",
        "\n",
        "\n",
        "  plt.imshow(cm, cmap=cmap)\n",
        "  plt.title(title)\n",
        "  plt.colorbar()\n",
        "  tick_marks = np.arange(len(classes))\n",
        "  plt.xticks(tick_marks, classes, rotation=45)\n",
        "  plt.yticks(tick_marks, classes)\n",
        "\n",
        "  #fmt = '.2f' if normalize else 'd'\n",
        "  thresh = cm.max() / 2.\n",
        "\n",
        "  for i, j in itertools.product(range(cm.shape[0]), range(cm.shape[1])):\n",
        "      plt.text(j, i, format(cm[i, j], '.2f'),\n",
        "               horizontalalignment=\"center\",\n",
        "               color=\"white\" if cm[i, j] > thresh else \"black\")\n",
        "\n",
        "  plt.tight_layout()\n",
        "  plt.ylabel('True label')\n",
        "  plt.xlabel('Predicted label')\n",
        "\n",
        "#========================================================================================\n",
        "#           Main Function\n",
        "#========================================================================================\n",
        "def main():\n",
        "  id_count=0\n",
        "  for cat in class_names:\n",
        "      img_path=os.path.join(base_dir,cat)\n",
        "      for img in os.listdir(img_path):\n",
        "          full_path=os.path.join(img_path,img)\n",
        "          pic = load_img(full_path, target_size=(150, 150))    # this is a PIL image\n",
        "          x = img_to_array(pic)                                # Numpy array with shape (150, 150, 3)\n",
        "          x=x.flatten()\n",
        "          img_array.append(x)                                  # Add to Feature space\n",
        "          class_id.append(id_count)                            # Add Coresponding label\n",
        "\n",
        "      id_count=id_count+1\n",
        "      \n",
        "  train_svm_classifer(img_array, class_id, model_output_path)  # Train Model\n",
        "\n",
        "main()\n",
        "    "
      ],
      "execution_count": 5,
      "outputs": [
        {
          "output_type": "stream",
          "text": [
            "Fitting 10 folds for each of 1 candidates, totalling 10 fits\n",
            "[CV] C=1, kernel=linear ..............................................\n",
            "[CV] C=1, kernel=linear ..............................................\n",
            "[CV] C=1, kernel=linear ..............................................\n",
            "[CV] C=1, kernel=linear ..............................................\n",
            "[CV] ..................... C=1, kernel=linear, score=0.750000 -  56.6s\n",
            "[CV] C=1, kernel=linear ..............................................\n",
            "[CV] ..................... C=1, kernel=linear, score=0.578947 -  57.6s\n",
            "[CV] C=1, kernel=linear ..............................................\n",
            "[CV] ..................... C=1, kernel=linear, score=0.888889 -  58.8s\n",
            "[CV] C=1, kernel=linear ..............................................\n",
            "[CV] ..................... C=1, kernel=linear, score=0.523810 - 1.1min\n",
            "[CV] C=1, kernel=linear ..............................................\n",
            "[CV] ..................... C=1, kernel=linear, score=0.722222 -  56.1s\n",
            "[CV] C=1, kernel=linear ..............................................\n",
            "[CV] ..................... C=1, kernel=linear, score=0.666667 -  59.1s\n",
            "[CV] ..................... C=1, kernel=linear, score=0.500000 -  56.0s\n"
          ],
          "name": "stdout"
        },
        {
          "output_type": "stream",
          "text": [
            "[Parallel(n_jobs=4)]: Done   7 out of  10 | elapsed:  2.0min remaining:   50.2s\n"
          ],
          "name": "stderr"
        },
        {
          "output_type": "stream",
          "text": [
            "[CV] C=1, kernel=linear ..............................................\n",
            "[CV] ..................... C=1, kernel=linear, score=0.444444 - 1.0min\n",
            "[CV] ..................... C=1, kernel=linear, score=0.777778 -  32.1s\n",
            "[CV] ..................... C=1, kernel=linear, score=0.647059 -  32.8s\n"
          ],
          "name": "stdout"
        },
        {
          "output_type": "stream",
          "text": [
            "[Parallel(n_jobs=4)]: Done  10 out of  10 | elapsed:  2.5min finished\n"
          ],
          "name": "stderr"
        },
        {
          "output_type": "stream",
          "text": [
            "\n",
            "Best parameters set:\n",
            "{'C': 1, 'kernel': 'linear'}\n",
            "\n",
            "Confusion matrix:\n",
            "Labels: [,0,,, ,1,,, ,2,,, ,3,]\n",
            "\n",
            "[[ 6  0  0  2]\n",
            " [ 0  7  3  1]\n",
            " [ 2  1  7  1]\n",
            " [ 2  4  1 10]]\n",
            "\n",
            "Classification report:\n",
            "                            precision    recall  f1-score   support\n",
            "\n",
            "  020.Yellow_breasted_Chat       0.60      0.75      0.67         8\n",
            "001.Black_footed_Albatross       0.58      0.64      0.61        11\n",
            "  084.Red_legged_Kittiwake       0.64      0.64      0.64        11\n",
            "           085.Horned_Lark       0.71      0.59      0.65        17\n",
            "\n",
            "               avg / total       0.65      0.64      0.64        47\n",
            "\n"
          ],
          "name": "stdout"
        },
        {
          "output_type": "display_data",
          "data": {
            "image/png": "[encoded data removed]",
            "text/plain": [
              "<matplotlib.figure.Figure at 0x7f336192d748>"
            ]
          },
          "metadata": {
            "tags": []
          }
        }
      ]
    },
    {
      "metadata": {
        "id": "ZsIxeJZ7ssCH",
        "colab_type": "text"
      },
      "cell_type": "markdown",
      "source": [
        "Testing the saved model over one picture"
      ]
    },
    {
      "metadata": {
        "id": "SWP1CS-51sGB",
        "colab_type": "code",
        "colab": {
          "base_uri": "https://localhost:8080/",
          "height": 243
        },
        "outputId": "c90231a9-d2d6-4676-abd2-a844391936aa"
      },
      "cell_type": "code",
      "source": [
        "\n",
        "#!ls model\n",
        "#!du model/model.pkl\n",
        "#!stat model/model.pkl\n",
        "\n",
        "clf_ = joblib.load('model/model.pkl')\n",
        "for cat in class_names:\n",
        "  img_path=os.path.join(base_dir,cat)\n",
        "  for img in os.listdir(img_path):\n",
        "      full_path=os.path.join(img_path,img)\n",
        "      pic = load_img(full_path, target_size=(150, 150))    # this is a PIL image\n",
        "      x = img_to_array(pic)                                # Numpy array with shape (150, 150, 3)\n",
        "      x=x.flatten()\n",
        "      x=x.reshape(1,-1)\n",
        "      y_predict=clf_.predict(x)\n",
        "      print(y_predict, cat)\n",
        "      break\n",
        "  break\n",
        "      \n",
        "      \n",
        "  "
      ],
      "execution_count": 1,
      "outputs": [
        {
          "output_type": "error",
          "ename": "NameError",
          "evalue": "ignored",
          "traceback": [
            "\u001b[0;31m---------------------------------------------------------------------------\u001b[0m",
            "\u001b[0;31mNameError\u001b[0m                                 Traceback (most recent call last)",
            "\u001b[0;32m<ipython-input-1-60ac9fd3fb66>\u001b[0m in \u001b[0;36m<module>\u001b[0;34m()\u001b[0m\n\u001b[1;32m      1\u001b[0m \u001b[0;34m\u001b[0m\u001b[0m\n\u001b[0;32m----> 2\u001b[0;31m \u001b[0mclf_\u001b[0m \u001b[0;34m=\u001b[0m \u001b[0mjoblib\u001b[0m\u001b[0;34m.\u001b[0m\u001b[0mload\u001b[0m\u001b[0;34m(\u001b[0m\u001b[0;34m'model/model.pkl'\u001b[0m\u001b[0;34m)\u001b[0m\u001b[0;34m\u001b[0m\u001b[0m\n\u001b[0m\u001b[1;32m      3\u001b[0m \u001b[0;32mfor\u001b[0m \u001b[0mcat\u001b[0m \u001b[0;32min\u001b[0m \u001b[0mclass_names\u001b[0m\u001b[0;34m:\u001b[0m\u001b[0;34m\u001b[0m\u001b[0m\n\u001b[1;32m      4\u001b[0m   \u001b[0mimg_path\u001b[0m\u001b[0;34m=\u001b[0m\u001b[0mos\u001b[0m\u001b[0;34m.\u001b[0m\u001b[0mpath\u001b[0m\u001b[0;34m.\u001b[0m\u001b[0mjoin\u001b[0m\u001b[0;34m(\u001b[0m\u001b[0mbase_dir\u001b[0m\u001b[0;34m,\u001b[0m\u001b[0mcat\u001b[0m\u001b[0;34m)\u001b[0m\u001b[0;34m\u001b[0m\u001b[0m\n\u001b[1;32m      5\u001b[0m   \u001b[0;32mfor\u001b[0m \u001b[0mimg\u001b[0m \u001b[0;32min\u001b[0m \u001b[0mos\u001b[0m\u001b[0;34m.\u001b[0m\u001b[0mlistdir\u001b[0m\u001b[0;34m(\u001b[0m\u001b[0mimg_path\u001b[0m\u001b[0;34m)\u001b[0m\u001b[0;34m:\u001b[0m\u001b[0;34m\u001b[0m\u001b[0m\n",
            "\u001b[0;31mNameError\u001b[0m: name 'joblib' is not defined"
          ]
        }
      ]
    },
    {
      "metadata": {
        "id": "H05SFfuftD2e",
        "colab_type": "text"
      },
      "cell_type": "markdown",
      "source": [
        "Clone github"
      ]
    },
    {
      "metadata": {
        "id": "n-yF547DHJx9",
        "colab_type": "code",
        "colab": {
          "base_uri": "https://localhost:8080/",
          "height": 51
        },
        "outputId": "1d86ac5b-0aaa-4961-f9a3-5a95d70faaad"
      },
      "cell_type": "code",
      "source": [
        "!git clone https://github.com/ThreeOne31/CNN_Bird_Species_Classification.git"
      ],
      "execution_count": 7,
      "outputs": [
        {
          "output_type": "stream",
          "text": [
            "Cloning into 'CNN_Bird_Species_Classification'...\n",
            "warning: You appear to have cloned an empty repository.\n"
          ],
          "name": "stdout"
        }
      ]
    },
    {
      "metadata": {
        "id": "haGu1qW7tKau",
        "colab_type": "text"
      },
      "cell_type": "markdown",
      "source": [
        "Add the model to the github"
      ]
    },
    {
      "metadata": {
        "id": "ciIzqPhla20q",
        "colab_type": "code",
        "colab": {
          "base_uri": "https://localhost:8080/",
          "height": 35
        },
        "outputId": "390c62fc-f18f-418b-812f-0db323369776"
      },
      "cell_type": "code",
      "source": [
        "!ls"
      ],
      "execution_count": 2,
      "outputs": [
        {
          "output_type": "stream",
          "text": [
            "sample_data\n"
          ],
          "name": "stdout"
        }
      ]
    },
    {
      "metadata": {
        "id": "sy53AFXRJX3d",
        "colab_type": "code",
        "colab": {
          "base_uri": "https://localhost:8080/",
          "height": 68
        },
        "outputId": "adf2436e-0d67-4520-80ec-cb02751d35e5"
      },
      "cell_type": "code",
      "source": [
        "!git commit -m \"first commit\" \n"
      ],
      "execution_count": 25,
      "outputs": [
        {
          "output_type": "stream",
          "text": [
            "[master (root-commit) 8fc5688] first commit\n",
            " 1 file changed, 0 insertions(+), 0 deletions(-)\n",
            " create mode 100644 model/model.pkl\n"
          ],
          "name": "stdout"
        }
      ]
    },
    {
      "metadata": {
        "id": "EtMMhWG5zyl1",
        "colab_type": "code",
        "colab": {
          "base_uri": "https://localhost:8080/",
          "height": 34
        },
        "outputId": "c831e4e9-e8b8-4a44-e4f9-f793aeb87d8f"
      },
      "cell_type": "code",
      "source": [
        "!git push -u origin master"
      ],
      "execution_count": 40,
      "outputs": [
        {
          "output_type": "stream",
          "text": [
            "fatal: could not read Username for 'https://github.com': No such device or address\n"
          ],
          "name": "stdout"
        }
      ]
    },
    {
      "metadata": {
        "id": "BMg6ckWO0-IR",
        "colab_type": "code",
        "colab": {
          "base_uri": "https://localhost:8080/",
          "height": 34
        },
        "outputId": "e34cc45d-dd1b-4de1-d45b-f97c769a3774"
      },
      "cell_type": "code",
      "source": [
        "!git push --set-upstream origin master"
      ],
      "execution_count": 41,
      "outputs": [
        {
          "output_type": "stream",
          "text": [
            "fatal: could not read Username for 'https://github.com': No such device or address\n"
          ],
          "name": "stdout"
        }
      ]
    },
    {
      "metadata": {
        "id": "3eLrYBoU3qIr",
        "colab_type": "code",
        "colab": {
          "base_uri": "https://localhost:8080/",
          "height": 374
        },
        "outputId": "906e278c-f22d-4027-e77d-8ba771379036"
      },
      "cell_type": "code",
      "source": [
        "!ssh-keygen -t rsa -b 4096 -C \"mahomedkhomo@gmail.com\""
      ],
      "execution_count": 37,
      "outputs": [
        {
          "output_type": "stream",
          "text": [
            "Generating public/private rsa key pair.\n",
            "Enter file in which to save the key (/root/.ssh/id_rsa): \n",
            "Created directory '/root/.ssh'.\n",
            "Enter passphrase (empty for no passphrase): \n",
            "Enter same passphrase again: \n",
            "Your identification has been saved in /root/.ssh/id_rsa.\n",
            "Your public key has been saved in /root/.ssh/id_rsa.pub.\n",
            "The key fingerprint is:\n",
            "SHA256:Gi33QT4jMXd3JK5Fu9jUEEg3IyB1gvM6aD+AoQidZkw mahomedkhomo@gmail.com\n",
            "The key's randomart image is:\n",
            "+---[RSA 4096]----+\n",
            "|        .o+o+.O..|\n",
            "|  E     o. o.= O |\n",
            "| + .    ooo . * o|\n",
            "|. * .  . *.. B o |\n",
            "|.+ . oo.S.= o o  |\n",
            "|. . . +=oo +     |\n",
            "|     ..o ..      |\n",
            "|        o        |\n",
            "|         .       |\n",
            "+----[SHA256]-----+\n"
          ],
          "name": "stdout"
        }
      ]
    },
    {
      "metadata": {
        "id": "MuBsK12P5tS-",
        "colab_type": "code",
        "colab": {
          "base_uri": "https://localhost:8080/",
          "height": 54
        },
        "outputId": "44651d52-9671-428d-c9bc-9c5b67cabc2e"
      },
      "cell_type": "code",
      "source": [
        "!cat ~/.ssh/id_rsa.pub"
      ],
      "execution_count": 38,
      "outputs": [
        {
          "output_type": "stream",
          "text": [
            "ssh-rsa AAAAB3NzaC1yc2EAAAADAQABAAACAQC+S8x9sfwkFyoTdk6P+C4g7Ehwbj55kOlAwcHMvUHf098P/LTJ/NCPxehK7aQk0ZpJ5jpilHBx2OFAh3AP2BqOfrj6w59/iqAof/rIxGwP46NDcZgnfC6YPnQdv2MUufcbWU53uzyAZBro3woYQZIDp4K0doMk01eeT5BvHDzB72p7uIRl/ltozmAhlDCIW0GycgS1wydphHBeoy25q+6o41UeboUbwC8cowbgrSCe94MECbGEFMXovzjleQGd8+jgUP+mO7O5udlzutwlpzh3N4U03RbJ3XQiudnvvzMM4M5lG/NBWQ0JwryOivV0o+zA1LVc/OxpS1wJQToYgxfEYkBFWZoHNc4xDNdOSLBUmt3Gud0WwUyBkCkX3qMt2fnFOMiRzc/xbnr/kuWy8v3cWgbPlEO3UHP0pnO4ZYmjJogl9/cs0BVigutkHqhqyrOPRh720BDljn1552Yhq542z8hrdRh8q4U/C4GrhqhZWq31Gy5VGlVhLJCLS9NfSLLXLWNM+/IWUIGKKbJ7HM8DXsGchqfZIm3mOwwZ9x5al5jNLOixDR+DNmRJ3q3iytP2enIrRE4r2vkHVtyHfD1kRahy7YeNyqCAfRv2E3RHDxzjFy6xOQwr6D+oVfdUHwYYkQ3EeaesoihYEAW/Ryi9CWK4aeiwtVWjKNoP3lTZLQ== mahomedkhomo@gmail.com\n"
          ],
          "name": "stdout"
        }
      ]
    },
    {
      "metadata": {
        "id": "VFAUV5NrlD-i",
        "colab_type": "text"
      },
      "cell_type": "markdown",
      "source": [
        "# New Section"
      ]
    },
    {
      "metadata": {
        "id": "S5f6T8mS7piC",
        "colab_type": "code",
        "colab": {
          "base_uri": "https://localhost:8080/",
          "height": 520
        },
        "outputId": "dbed7e43-1201-416e-e213-47838ad7d80f"
      },
      "cell_type": "code",
      "source": [
        "from google.colab import files\n",
        "files.download('model/model.pkl')"
      ],
      "execution_count": 43,
      "outputs": [
        {
          "output_type": "error",
          "ename": "MessageError",
          "evalue": "ignored",
          "traceback": [
            "\u001b[0;31m---------------------------------------------------------------------------\u001b[0m",
            "\u001b[0;31mMessageError\u001b[0m                              Traceback (most recent call last)",
            "\u001b[0;32m<ipython-input-43-049bb20cd68a>\u001b[0m in \u001b[0;36m<module>\u001b[0;34m()\u001b[0m\n\u001b[1;32m      1\u001b[0m \u001b[0;32mfrom\u001b[0m \u001b[0mgoogle\u001b[0m\u001b[0;34m.\u001b[0m\u001b[0mcolab\u001b[0m \u001b[0;32mimport\u001b[0m \u001b[0mfiles\u001b[0m\u001b[0;34m\u001b[0m\u001b[0m\n\u001b[0;32m----> 2\u001b[0;31m \u001b[0mfiles\u001b[0m\u001b[0;34m.\u001b[0m\u001b[0mdownload\u001b[0m\u001b[0;34m(\u001b[0m\u001b[0;34m'model/model.pkl'\u001b[0m\u001b[0;34m)\u001b[0m\u001b[0;34m\u001b[0m\u001b[0m\n\u001b[0m",
            "\u001b[0;32m/usr/local/lib/python3.6/dist-packages/google/colab/files.py\u001b[0m in \u001b[0;36mdownload\u001b[0;34m(filename)\u001b[0m\n\u001b[1;32m    174\u001b[0m       \u001b[0;34m'port'\u001b[0m\u001b[0;34m:\u001b[0m \u001b[0mport\u001b[0m\u001b[0;34m,\u001b[0m\u001b[0;34m\u001b[0m\u001b[0m\n\u001b[1;32m    175\u001b[0m       \u001b[0;34m'path'\u001b[0m\u001b[0;34m:\u001b[0m \u001b[0mos\u001b[0m\u001b[0;34m.\u001b[0m\u001b[0mpath\u001b[0m\u001b[0;34m.\u001b[0m\u001b[0mabspath\u001b[0m\u001b[0;34m(\u001b[0m\u001b[0mfilename\u001b[0m\u001b[0;34m)\u001b[0m\u001b[0;34m,\u001b[0m\u001b[0;34m\u001b[0m\u001b[0m\n\u001b[0;32m--> 176\u001b[0;31m       \u001b[0;34m'name'\u001b[0m\u001b[0;34m:\u001b[0m \u001b[0mos\u001b[0m\u001b[0;34m.\u001b[0m\u001b[0mpath\u001b[0m\u001b[0;34m.\u001b[0m\u001b[0mbasename\u001b[0m\u001b[0;34m(\u001b[0m\u001b[0mfilename\u001b[0m\u001b[0;34m)\u001b[0m\u001b[0;34m,\u001b[0m\u001b[0;34m\u001b[0m\u001b[0m\n\u001b[0m\u001b[1;32m    177\u001b[0m   })\n",
            "\u001b[0;32m/usr/local/lib/python3.6/dist-packages/google/colab/output/_js.py\u001b[0m in \u001b[0;36meval_js\u001b[0;34m(script, ignore_result)\u001b[0m\n\u001b[1;32m     37\u001b[0m   \u001b[0;32mif\u001b[0m \u001b[0mignore_result\u001b[0m\u001b[0;34m:\u001b[0m\u001b[0;34m\u001b[0m\u001b[0m\n\u001b[1;32m     38\u001b[0m     \u001b[0;32mreturn\u001b[0m\u001b[0;34m\u001b[0m\u001b[0m\n\u001b[0;32m---> 39\u001b[0;31m   \u001b[0;32mreturn\u001b[0m \u001b[0m_message\u001b[0m\u001b[0;34m.\u001b[0m\u001b[0mread_reply_from_input\u001b[0m\u001b[0;34m(\u001b[0m\u001b[0mrequest_id\u001b[0m\u001b[0;34m)\u001b[0m\u001b[0;34m\u001b[0m\u001b[0m\n\u001b[0m\u001b[1;32m     40\u001b[0m \u001b[0;34m\u001b[0m\u001b[0m\n\u001b[1;32m     41\u001b[0m \u001b[0;34m\u001b[0m\u001b[0m\n",
            "\u001b[0;32m/usr/local/lib/python3.6/dist-packages/google/colab/_message.py\u001b[0m in \u001b[0;36mread_reply_from_input\u001b[0;34m(message_id, timeout_sec)\u001b[0m\n\u001b[1;32m    104\u001b[0m         reply.get('colab_msg_id') == message_id):\n\u001b[1;32m    105\u001b[0m       \u001b[0;32mif\u001b[0m \u001b[0;34m'error'\u001b[0m \u001b[0;32min\u001b[0m \u001b[0mreply\u001b[0m\u001b[0;34m:\u001b[0m\u001b[0;34m\u001b[0m\u001b[0m\n\u001b[0;32m--> 106\u001b[0;31m         \u001b[0;32mraise\u001b[0m \u001b[0mMessageError\u001b[0m\u001b[0;34m(\u001b[0m\u001b[0mreply\u001b[0m\u001b[0;34m[\u001b[0m\u001b[0;34m'error'\u001b[0m\u001b[0;34m]\u001b[0m\u001b[0;34m)\u001b[0m\u001b[0;34m\u001b[0m\u001b[0m\n\u001b[0m\u001b[1;32m    107\u001b[0m       \u001b[0;32mreturn\u001b[0m \u001b[0mreply\u001b[0m\u001b[0;34m.\u001b[0m\u001b[0mget\u001b[0m\u001b[0;34m(\u001b[0m\u001b[0;34m'data'\u001b[0m\u001b[0;34m,\u001b[0m \u001b[0;32mNone\u001b[0m\u001b[0;34m)\u001b[0m\u001b[0;34m\u001b[0m\u001b[0m\n\u001b[1;32m    108\u001b[0m \u001b[0;34m\u001b[0m\u001b[0m\n",
            "\u001b[0;31mMessageError\u001b[0m: TypeError: Failed to fetch"
          ]
        }
      ]
    },
    {
      "metadata": {
        "id": "l9PH1oNx8HTI",
        "colab_type": "code",
        "colab": {}
      },
      "cell_type": "code",
      "source": [
        "pip install c"
      ],
      "execution_count": 0,
      "outputs": []
    }
  ]
}